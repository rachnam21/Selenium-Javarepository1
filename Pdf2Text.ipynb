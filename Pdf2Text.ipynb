{
  "nbformat": 4,
  "nbformat_minor": 0,
  "metadata": {
    "colab": {
      "name": "Pdf2Text.ipynb",
      "provenance": [],
      "collapsed_sections": [],
      "mount_file_id": "1Fl5mksEjuTvMRuDOnnPk0nTs50tM203B",
      "authorship_tag": "ABX9TyOohv+5MPI3UUk942H4iIrg",
      "include_colab_link": true
    },
    "kernelspec": {
      "name": "python3",
      "display_name": "Python 3"
    }
  },
  "cells": [
    {
      "cell_type": "markdown",
      "metadata": {
        "id": "view-in-github",
        "colab_type": "text"
      },
      "source": [
        "<a href=\"https://colab.research.google.com/github/rachnam21/Selenium-Javarepository1/blob/master/Pdf2Text.ipynb\" target=\"_parent\"><img src=\"https://colab.research.google.com/assets/colab-badge.svg\" alt=\"Open In Colab\"/></a>"
      ]
    },
    {
      "cell_type": "code",
      "metadata": {
        "id": "grjt59knLlSz",
        "colab_type": "code",
        "colab": {
          "base_uri": "https://localhost:8080/",
          "height": 339
        },
        "outputId": "fd213c61-9bd9-41a8-ec14-48307a791ea1"
      },
      "source": [
        "!pip install pdf2text"
      ],
      "execution_count": 5,
      "outputs": [
        {
          "output_type": "stream",
          "text": [
            "Collecting pdf2text\n",
            "  Downloading https://files.pythonhosted.org/packages/61/09/d6809474cffafa9189b2285638a0f915a27a8ce259c86aee513ce38b1ee7/pdf2text-1.0.0.tar.gz\n",
            "Collecting PDFMiner\n",
            "\u001b[?25l  Downloading https://files.pythonhosted.org/packages/71/a3/155c5cde5f9c0b1069043b2946a93f54a41fd72cc19c6c100f6f2f5bdc15/pdfminer-20191125.tar.gz (4.2MB)\n",
            "\u001b[K     |████████████████████████████████| 4.2MB 2.8MB/s \n",
            "\u001b[?25hCollecting pycryptodome\n",
            "\u001b[?25l  Downloading https://files.pythonhosted.org/packages/af/16/da16a22d47bac9bf9db39f3b9af74e8eeed8855c0df96be20b580ef92fff/pycryptodome-3.9.7-cp36-cp36m-manylinux1_x86_64.whl (13.7MB)\n",
            "\u001b[K     |████████████████████████████████| 13.7MB 288kB/s \n",
            "\u001b[?25hBuilding wheels for collected packages: pdf2text, PDFMiner\n",
            "  Building wheel for pdf2text (setup.py) ... \u001b[?25l\u001b[?25hdone\n",
            "  Created wheel for pdf2text: filename=pdf2text-1.0.0-cp36-none-any.whl size=2754 sha256=904f2726db6ea4cbd52a7e9a23f167d995e5f21e28045e0b5419cc77c57ccd39\n",
            "  Stored in directory: /root/.cache/pip/wheels/d3/78/cf/8551a9ca700258566709d8f29c9ca4ea071ef36da0cfa36eb1\n",
            "  Building wheel for PDFMiner (setup.py) ... \u001b[?25l\u001b[?25hdone\n",
            "  Created wheel for PDFMiner: filename=pdfminer-20191125-cp36-none-any.whl size=6140077 sha256=f8c02a2d705668d650377db3d6bc35f0a408f01a6a125b9ae99169e407568d3c\n",
            "  Stored in directory: /root/.cache/pip/wheels/e1/00/af/720a55d74ba3615bb4709a3ded6dd71dc5370a586a0ff6f326\n",
            "Successfully built pdf2text PDFMiner\n",
            "Installing collected packages: pycryptodome, PDFMiner, pdf2text\n",
            "Successfully installed PDFMiner-20191125 pdf2text-1.0.0 pycryptodome-3.9.7\n"
          ],
          "name": "stdout"
        }
      ]
    },
    {
      "cell_type": "code",
      "metadata": {
        "id": "8r0a58VGM-KQ",
        "colab_type": "code",
        "colab": {
          "base_uri": "https://localhost:8080/",
          "height": 205
        },
        "outputId": "db822615-46b2-4ffa-b582-7215a24abf7f"
      },
      "source": [
        "!pip install PyPDF2"
      ],
      "execution_count": 10,
      "outputs": [
        {
          "output_type": "stream",
          "text": [
            "Collecting PyPDF2\n",
            "\u001b[?25l  Downloading https://files.pythonhosted.org/packages/b4/01/68fcc0d43daf4c6bdbc6b33cc3f77bda531c86b174cac56ef0ffdb96faab/PyPDF2-1.26.0.tar.gz (77kB)\n",
            "\r\u001b[K     |████▎                           | 10kB 17.8MB/s eta 0:00:01\r\u001b[K     |████████▌                       | 20kB 1.9MB/s eta 0:00:01\r\u001b[K     |████████████▊                   | 30kB 2.5MB/s eta 0:00:01\r\u001b[K     |█████████████████               | 40kB 2.7MB/s eta 0:00:01\r\u001b[K     |█████████████████████▏          | 51kB 2.1MB/s eta 0:00:01\r\u001b[K     |█████████████████████████▍      | 61kB 2.4MB/s eta 0:00:01\r\u001b[K     |█████████████████████████████▋  | 71kB 2.6MB/s eta 0:00:01\r\u001b[K     |████████████████████████████████| 81kB 2.3MB/s \n",
            "\u001b[?25hBuilding wheels for collected packages: PyPDF2\n",
            "  Building wheel for PyPDF2 (setup.py) ... \u001b[?25l\u001b[?25hdone\n",
            "  Created wheel for PyPDF2: filename=PyPDF2-1.26.0-cp36-none-any.whl size=61086 sha256=329dff88d7c15a1deb632810eb0ba583cf8e5cdd94e80faed0a8fdee55caf141\n",
            "  Stored in directory: /root/.cache/pip/wheels/53/84/19/35bc977c8bf5f0c23a8a011aa958acd4da4bbd7a229315c1b7\n",
            "Successfully built PyPDF2\n",
            "Installing collected packages: PyPDF2\n",
            "Successfully installed PyPDF2-1.26.0\n"
          ],
          "name": "stdout"
        }
      ]
    },
    {
      "cell_type": "code",
      "metadata": {
        "id": "t0jCO1cBLo1R",
        "colab_type": "code",
        "colab": {}
      },
      "source": [
        "import PyPDF2"
      ],
      "execution_count": 0,
      "outputs": []
    },
    {
      "cell_type": "code",
      "metadata": {
        "id": "pplx7P4bNGnI",
        "colab_type": "code",
        "colab": {}
      },
      "source": [
        "pdfFileObject = open(r\"Samplefile.pdf\", 'rb')"
      ],
      "execution_count": 0,
      "outputs": []
    },
    {
      "cell_type": "code",
      "metadata": {
        "id": "JvQJz5CJNukR",
        "colab_type": "code",
        "colab": {
          "base_uri": "https://localhost:8080/",
          "height": 54
        },
        "outputId": "e5ad7e2c-77cc-4fbb-b8a6-e5ab750653fb"
      },
      "source": [
        "pdfReader = PyPDF2.PdfFileReader(pdfFileObject)"
      ],
      "execution_count": 20,
      "outputs": [
        {
          "output_type": "stream",
          "text": [
            "PdfReadWarning: Xref table not zero-indexed. ID numbers for objects will be corrected. [pdf.py:1736]\n"
          ],
          "name": "stderr"
        }
      ]
    },
    {
      "cell_type": "code",
      "metadata": {
        "id": "1Q2TzG2MN0HR",
        "colab_type": "code",
        "colab": {
          "base_uri": "https://localhost:8080/",
          "height": 34
        },
        "outputId": "5b57b2d3-20d2-41e4-cbd5-46adb7653536"
      },
      "source": [
        "print(\" No. Of Pages :\", pdfReader.numPages)"
      ],
      "execution_count": 21,
      "outputs": [
        {
          "output_type": "stream",
          "text": [
            " No. Of Pages : 1\n"
          ],
          "name": "stdout"
        }
      ]
    },
    {
      "cell_type": "code",
      "metadata": {
        "id": "giGlfgYTN3IM",
        "colab_type": "code",
        "colab": {}
      },
      "source": [
        "pageObject = pdfReader.getPage(0)"
      ],
      "execution_count": 0,
      "outputs": []
    },
    {
      "cell_type": "code",
      "metadata": {
        "id": "mXUhX8phOGG5",
        "colab_type": "code",
        "colab": {
          "base_uri": "https://localhost:8080/",
          "height": 1000
        },
        "outputId": "3e71e012-f42c-4a54-a96b-8edc4553b757"
      },
      "source": [
        "print(pageObject.extractText())"
      ],
      "execution_count": 23,
      "outputs": [
        {
          "output_type": "stream",
          "text": [
            "Lorem Ipsum\n",
            " \n",
            "\"Neque porro quisquam est qui dolorem ipsum quia dolor sit amet, consectetur, adipisci velit...\"\n",
            " \n",
            "\"There is no one who loves pain itself, who seeks after it and wants to have it, simply because it is pain...\"\n",
            " \n",
            " \n",
            "Lorem ipsum dolor sit amet, consectetur adipiscing elit. Mauris vitae erat nibh. Morbi imperdiet \n",
            "scelerisque massa, non ornare turpis elementum consectetur. Praesent laoreet vitae libero eget \n",
            "pulvinar. Fusce malesuada massa at tincidunt tincidunt. Orci var\n",
            "ius natoque penatibus et magnis dis \n",
            "parturient montes, nascetur ridiculus mus. Nam sed tincidunt turpis. Quisque tincidunt dictum augue \n",
            "sed egestas. Ut scelerisque leo sit amet lectus vehicula, et posuere enim porttitor. Fusce porta varius \n",
            "elit vel consequ\n",
            "at. \n",
            "Class aptent taciti sociosqu ad litora torquent per conubia nostra, per inceptos \n",
            "himenaeos. Quisque in ex libero. Nullam augue mauris, blandit sit amet neque eu, viverra congue est.\n",
            " \n",
            "Mauris ac auctor dolor. Proin maximus quam id magna vulputate ultricie\n",
            "s. Maecenas lacinia dolor \n",
            "eros, a bibendum tellus bibendum vitae. Praesent vel neque imperdiet, eleifend est vel, pharetra ex. \n",
            "Vivamus a hendrerit nisl. Etiam dignissim sed arcu in cursus. \n",
            "Pellentesque rutrum semper justo, ut \n",
            "ornare mi vehicula sodales. Fu\n",
            "sce ut imperdiet nisl. Nullam suscipit, lectus et semper ornare, ante nisi \n",
            "semper lorem, in viverra mauris augue non eros. \n",
            "Nam tincidunt mauris mi, nec congue est bibendum \n",
            "vel. Morbi ullamcorper eros at tempus suscipit. Nunc mattis sed lectus at eleifend. \n",
            "Morbi convallis \n",
            "augue metus, accumsan malesuada elit consectetur quis. Donec vel turpis efficitur, malesuada ligula \n",
            "ut, blandit dui. Integer at purus et quam blandit volutpat. Donec vel orci efficitur, sodales diam nec, \n",
            "malesuada ipsum.\n",
            " \n",
            "Nullam euismod, odi\n",
            "o in ornare fermentum, nunc sapien vestibulum erat, aliquam elementum est est \n",
            "sed erat. \n",
            "Proin facilisis lacus vitae magna volutpat, vitae commodo velit volutpat. Aliquam rutrum erat \n",
            "a nibh elementum, quis eleifend nulla fringilla. Proin sed velit \n",
            "pulvinar est consequat rhoncus ut non \n",
            "augue. Cras id velit purus. Aliquam convallis venenatis ultrices. Nam pulvinar aliquet magna, at ornare \n",
            "ligula cursus vel. Curabitur vitae cursus ante. Morbi congue lorem ac ante pretium commodo. Nulla \n",
            "imperdiet diam e\n",
            "get tortor dignissim egestas vitae sit amet sem.\n",
            " \n",
            "In purus elit, finibus quis nisi ut, placerat consectetur erat. Pellentesque habitant morbi tristique \n",
            "senectus et netus et malesuada fames ac turpis egestas. Aenean non metus turpis. Vestibulum at \n",
            "iaculis ma\n",
            "ssa. Nunc orci magna, congue a egestas nec, vulputate non mauris. Fusce malesuada a \n",
            "ipsum eu porttitor. Cras pretium porta tempor. Integer pulvinar convallis ipsum at varius. Cras convallis \n",
            "varius arcu eget egestas. Praesent ullamcorper nisl ex, et mollis \n",
            "ante sagittis vel. Ut elementum ligula \n",
            "enim. Maecenas massa dui, malesuada in metus nec, vulputate efficitur nibh.\n",
            " \n",
            "Curabitur dictum lacus magna. Integer ex velit, malesuada eu ligula id, suscipit sagittis lacus. \n",
            "Phasellus cursus viverra ultrices. Maecenas \n",
            "magna arcu, finibus eget elit vitae, iaculis ornare tellus. \n",
            "Nullam faucibus libero felis, in efficitur lorem vestibulum id. Aliquam sagittis scelerisque tellus, a \n",
            "gravida orci suscipit quis. Orci varius natoque penatibus et magnis dis parturient montes, na\n",
            "scetur \n",
            "ridiculus mus. Pellentesque ac risus arcu. Aliquam condimentum massa sed tincidunt tincidunt. \n",
            "Pellentesque non mauris in elit rhoncus condimentum. Vivamus tempus lacus ex. Integer malesuada, \n",
            "justo sed finibus egestas, risus velit porta erat, a tempo\n",
            "r sem augue vel leo. Ut nisi massa, egestas \n",
            "quis orci nec, varius condimentum lorem. Nullam hendrerit feugiat lacinia. Pellentesque habitant morbi \n",
            "tristique senectus et netus et malesuada fames ac turpis egestas. Vestibulum ante ipsum primis in \n",
            "faucibus or\n",
            "ci luctus et ultrices posuere cubilia Curae;\n",
            " \n",
            "\n"
          ],
          "name": "stdout"
        }
      ]
    },
    {
      "cell_type": "code",
      "metadata": {
        "id": "kulxcKgPOJu5",
        "colab_type": "code",
        "colab": {}
      },
      "source": [
        "pdfFileObject.close()"
      ],
      "execution_count": 0,
      "outputs": []
    },
    {
      "cell_type": "code",
      "metadata": {
        "id": "bC4yj7SdQOYK",
        "colab_type": "code",
        "colab": {}
      },
      "source": [
        ""
      ],
      "execution_count": 0,
      "outputs": []
    },
    {
      "cell_type": "code",
      "metadata": {
        "id": "4hCBXRs0QPPB",
        "colab_type": "code",
        "colab": {}
      },
      "source": [
        ""
      ],
      "execution_count": 0,
      "outputs": []
    }
  ]
}